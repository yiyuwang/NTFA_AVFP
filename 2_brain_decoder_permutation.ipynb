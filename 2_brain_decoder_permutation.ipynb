{
 "cells": [
  {
   "attachments": {},
   "cell_type": "markdown",
   "id": "30bb0166",
   "metadata": {},
   "source": [
    "# Brain Decoder Results visualization"
   ]
  },
  {
   "cell_type": "code",
   "execution_count": null,
   "id": "145e792e",
   "metadata": {},
   "outputs": [],
   "source": [
    "query_dir = 'models/AVFP_NTFA_sub-All_epoch-2000_factor-100_mask-GMgroup_111_lin-None_ntfa-v2_visreg/'"
   ]
  },
  {
   "cell_type": "code",
   "execution_count": 39,
   "id": "011bb8e3-282c-4d0c-8b2f-5b45e393e078",
   "metadata": {},
   "outputs": [
    {
     "name": "stdout",
     "output_type": "stream",
     "text": [
      "0.37060887475234644\n",
      "0.48813580480935076\n",
      "0.3706088747523465\n",
      "0.3943862499829422\n",
      "0.3943862499829422\n",
      "164\n"
     ]
    }
   ],
   "source": [
    "import numpy as np\n",
    "import glob\n",
    "\n",
    "\n",
    "\n",
    "\n",
    "which_test = 'reconstruction'\n",
    "kernel = 'rbf'\n",
    "\n",
    "file_list = glob.glob(query_dir + f'/BrainDecoder_{which_test}_permutation/whole-brain_{kernel}_acc_permutation_*.npy')\n",
    "\n",
    "recon_permut_list, recon_mean_dist = [], []\n",
    "max_r = 0\n",
    "for i, f in enumerate(file_list):\n",
    "\n",
    "    test = np.load(f)\n",
    "    recon_permut_list.append(test)\n",
    "    recon_mean_dist.append(np.mean(test))\n",
    "    \n",
    "    if np.mean(test) > max_r:\n",
    "        max_r = np.mean(test)\n",
    "        max_i = i\n",
    "\n",
    "recon_permut_dist = np.concatenate(recon_permut_list)  \n",
    "\n",
    "print(np.mean(recon_permut_dist))\n",
    "print(np.max(recon_permut_dist))\n",
    "\n",
    "print(np.mean(recon_mean_dist))\n",
    "print(np.max(recon_mean_dist))\n",
    "\n",
    "print(max_r)\n",
    "print(max_i)"
   ]
  },
  {
   "cell_type": "code",
   "execution_count": null,
   "id": "6c7965fd",
   "metadata": {},
   "outputs": [],
   "source": []
  },
  {
   "cell_type": "code",
   "execution_count": 108,
   "id": "fa275c79-07fe-4913-8fef-c015bbabd4c0",
   "metadata": {},
   "outputs": [
    {
     "name": "stdout",
     "output_type": "stream",
     "text": [
      "0.37054955635425063\n",
      "0.48813580480935076\n",
      "0.37054955635425063\n",
      "0.3943862499829422\n",
      "0.3943862499829422\n",
      "164\n"
     ]
    }
   ],
   "source": [
    "import numpy as np\n",
    "import glob\n",
    "which_test = 'reconstruction'\n",
    "kernel = 'rbf'\n",
    "\n",
    "file_list = glob.glob(query_dir + f'/BrainDecoder_{which_test}_permutation/whole-brain_{kernel}_acc_permutation_*.npy')\n",
    "\n",
    "recon_permut_list, recon_mean_dist = [], []\n",
    "max_r = 0\n",
    "for i, f in enumerate(file_list):\n",
    "\n",
    "    test = np.load(f)\n",
    "    recon_permut_list.append(test)\n",
    "    recon_mean_dist.append(np.mean(test))\n",
    "    \n",
    "    if np.mean(test) > max_r:\n",
    "        max_r = np.mean(test)\n",
    "        max_i = i\n",
    "\n",
    "recon_permut_dist = np.concatenate(recon_permut_list)  \n",
    "\n",
    "print(np.mean(recon_permut_dist))\n",
    "print(np.max(recon_permut_dist))\n",
    "\n",
    "print(np.mean(recon_mean_dist))\n",
    "print(np.max(recon_mean_dist))\n",
    "\n",
    "print(max_r)\n",
    "print(max_i)"
   ]
  },
  {
   "cell_type": "code",
   "execution_count": 105,
   "id": "ce99c3d3-77c8-41f8-a5c4-a391305b2b32",
   "metadata": {},
   "outputs": [
    {
     "name": "stdout",
     "output_type": "stream",
     "text": [
      "0.48080717969098014\n",
      "0.27675494032167525\n",
      "0.4808071796909802\n",
      "0.46825079463582825\n",
      "0.46825079463582825\n",
      "30\n"
     ]
    }
   ],
   "source": [
    "import numpy as np\n",
    "import glob\n",
    "which_test = 'activations'\n",
    "kernel = 'rbf'\n",
    "file_list = glob.glob(query_dir + f'/BrainDecoder_{which_test}_permutation/whole-brain_{kernel}_permutation_*.npy')\n",
    "\n",
    "act_permut_list, act_mean_dist = [], []\n",
    "min_r = 1\n",
    "for i, f in enumerate(file_list):\n",
    "    test = np.load(f)\n",
    "    act_permut_list.append(test)\n",
    "    act_mean_dist.append(np.mean(test))\n",
    "    \n",
    "    if np.mean(test) < min_r:\n",
    "        min_r = np.mean(test)\n",
    "        min_i = i\n",
    "    \n",
    "act_permut_dist = np.concatenate(act_permut_list)  \n",
    "\n",
    "print(np.mean(act_permut_dist))\n",
    "print(np.min(act_permut_dist))\n",
    "\n",
    "print(np.mean(act_mean_dist))\n",
    "print(np.min(act_mean_dist))\n",
    "\n",
    "print(min_r)\n",
    "print(min_i)"
   ]
  },
  {
   "cell_type": "code",
   "execution_count": 111,
   "id": "949b9c8f-ceb8-443e-ac5a-aa133640c7b6",
   "metadata": {},
   "outputs": [
    {
     "data": {
      "text/plain": [
       "(0.0, 25.0)"
      ]
     },
     "execution_count": 111,
     "metadata": {},
     "output_type": "execute_result"
    },
    {
     "data": {
      "image/png": "[encoded data removed]",
      "text/plain": [
       "<Figure size 432x288 with 1 Axes>"
      ]
     },
     "metadata": {
      "needs_background": "light"
     },
     "output_type": "display_data"
    }
   ],
   "source": [
    "import matplotlib.pyplot as plt \n",
    "fig, ax = plt.subplots()\n",
    "score = 0.39\n",
    "ax.hist(act_permut_dist, bins=30, density=True, color = \"#0076BA\")\n",
    "ax.hist(recon_permut_dist, bins=30, density=True, color=\"#7FB1ED\")\n",
    "ax.axvline(score, ls=\"--\", color=\"r\")\n",
    "ax.set_title(f\"Score: {score:.2f}\")\n",
    "ax.set_xlabel(\"Pearson's R\")\n",
    "_ = ax.set_ylabel(\"Frequency\")\n",
    "ax.set_xlim([-0.1, 0.65])\n",
    "ax.set_ylim([0, 25])\n"
   ]
  },
  {
   "cell_type": "code",
   "execution_count": 103,
   "id": "dd8f31bf-f275-4a97-a87d-ec8fc3e423a7",
   "metadata": {},
   "outputs": [
    {
     "name": "stdout",
     "output_type": "stream",
     "text": [
      "0.47556453024279316\n",
      "0.28520406560789363\n"
     ]
    }
   ],
   "source": [
    "which_test = 'activations'\n",
    "kernel = 'rbf'\n",
    "act_acc = np.mean(np.load(query_dir + f'/BrainDecoder_{which_test}_permutation/whole-brain_{kernel}_acc_permutation_921.npy'))\n",
    "act_rmse = np.mean(np.load(query_dir + f'/BrainDecoder_{which_test}_permutation/whole-brain_{kernel}_rmse_permutation_921.npy'))\n",
    "print(act_acc)\n",
    "print(act_rmse)"
   ]
  },
  {
   "cell_type": "code",
   "execution_count": 102,
   "id": "620cbef1-9d1e-4438-9aed-b2173145a939",
   "metadata": {},
   "outputs": [
    {
     "name": "stdout",
     "output_type": "stream",
     "text": [
      "0.3877299231603034\n",
      "0.3073600247452183\n"
     ]
    }
   ],
   "source": [
    "which_test = 'reconstruction'\n",
    "kernel = 'rbf'\n",
    "recon_acc = np.max(np.load(query_dir + f'/BrainDecoder_{which_test}_permutation/whole-brain_{kernel}_acc_permutation_921.npy'))\n",
    "recon_rmse = np.mean(np.load(query_dir + f'/BrainDecoder_{which_test}_permutation/whole-brain_{kernel}_rmse_permutation_921.npy'))\n",
    "print(recon_acc)\n",
    "print(recon_rmse)"
   ]
  },
  {
   "cell_type": "code",
   "execution_count": 104,
   "id": "55a84186-c1b0-4861-b2c3-98f1e6084216",
   "metadata": {},
   "outputs": [
    {
     "data": {
      "image/png": "[encoded data removed]",
      "text/plain": [
       "<Figure size 432x288 with 1 Axes>"
      ]
     },
     "metadata": {
      "needs_background": "light"
     },
     "output_type": "display_data"
    },
    {
     "data": {
      "image/png": "[encoded data removed]",
      "text/plain": [
       "<Figure size 432x288 with 1 Axes>"
      ]
     },
     "metadata": {
      "needs_background": "light"
     },
     "output_type": "display_data"
    }
   ],
   "source": [
    "\n",
    "rmse = [0.29, 0.30]\n",
    "labels = ['Original Input', 'Reconstruction']\n",
    "colors = [\"#0076BA\", \"#7FB1ED\"]\n",
    "\n",
    "\n",
    "x = range(len(labels))\n",
    "import matplotlib.pyplot as plt\n",
    "import matplotlib.font_manager as fm\n",
    "import matplotlib as mpl\n",
    "\n",
    "# Set the font style and size\n",
    "mpl.rcParams['font.family'] = 'serif'\n",
    "mpl.rcParams['font.serif'] = ['Times New Roman']\n",
    "mpl.rcParams['font.size'] = 16\n",
    "\n",
    "correlation = [0.47, 0.39]\n",
    "labels = ['Original Input', 'Reconstruction']\n",
    "colors = [\"#0076BA\", \"#7FB1ED\"]\n",
    "\n",
    "x = range(len(labels))\n",
    "\n",
    "plt.bar(x, correlation, width=0.6, align='center', color=colors)\n",
    "\n",
    "plt.xlabel(' ')\n",
    "plt.ylabel(' ')\n",
    "plt.title(' ')\n",
    "plt.xticks(x, labels)\n",
    "\n",
    "# Set thicker axis lines\n",
    "ax = plt.gca()\n",
    "ax.spines['bottom'].set_linewidth(1.5)\n",
    "ax.spines['left'].set_linewidth(1.5)\n",
    "ax.spines['top'].set_visible(False)\n",
    "ax.spines['right'].set_visible(False)\n",
    "\n",
    "plt.show()\n",
    "\n",
    "plt.bar(x, rmse, width=0.6, align='center', color=colors)\n",
    "\n",
    "plt.xlabel(' ')\n",
    "plt.ylabel(' ')\n",
    "plt.title(' ')\n",
    "plt.xticks(x, labels)\n",
    "\n",
    "# Set thicker axis lines\n",
    "ax = plt.gca()\n",
    "ax.spines['bottom'].set_linewidth(1.5)\n",
    "ax.spines['left'].set_linewidth(1.5)\n",
    "ax.spines['top'].set_visible(False)\n",
    "ax.spines['right'].set_visible(False)\n",
    "\n",
    "plt.show()"
   ]
  },
  {
   "cell_type": "code",
   "execution_count": null,
   "id": "ea3cc2a0-4fec-4d1c-99ed-4dfb44e7ec41",
   "metadata": {},
   "outputs": [],
   "source": []
  },
  {
   "cell_type": "code",
   "execution_count": null,
   "id": "0b6ffc1c",
   "metadata": {},
   "outputs": [],
   "source": []
  }
 ],
 "metadata": {
  "kernelspec": {
   "display_name": "Python 3",
   "language": "python",
   "name": "python3"
  },
  "language_info": {
   "codemirror_mode": {
    "name": "ipython",
    "version": 3
   },
   "file_extension": ".py",
   "mimetype": "text/x-python",
   "name": "python",
   "nbconvert_exporter": "python",
   "pygments_lexer": "ipython3",
   "version": "3.6.13"
  }
 },
 "nbformat": 4,
 "nbformat_minor": 5
}
